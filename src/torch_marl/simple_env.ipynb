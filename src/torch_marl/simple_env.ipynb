{
 "cells": [
  {
   "cell_type": "code",
   "execution_count": 60,
   "metadata": {},
   "outputs": [
    {
     "name": "stdout",
     "output_type": "stream",
     "text": [
      "The autoreload extension is already loaded. To reload it, use:\n",
      "  %reload_ext autoreload\n"
     ]
    }
   ],
   "source": [
    "# Torch\n",
    "%load_ext autoreload\n",
    "%autoreload 2\n",
    "from env.simple_env import SimpleEnv\n",
    "from tensordict import TensorDict"
   ]
  },
  {
   "cell_type": "code",
   "execution_count": 61,
   "metadata": {},
   "outputs": [
    {
     "name": "stderr",
     "output_type": "stream",
     "text": [
      "2024-02-25 21:06:44,346 [torchrl][INFO] check_env_specs succeeded!\n"
     ]
    },
    {
     "name": "stdout",
     "output_type": "stream",
     "text": [
      "pos 0\n",
      "x y coordtensor([0, 0])\n",
      "action tensor([1, 0])\n",
      "new xy tensor([1, 0])\n",
      "new coords tensor([[10]])\n",
      "tensor([[0.2000]])\n",
      "pos 10\n",
      "x y coordtensor([1, 0])\n",
      "action tensor([ 0, -1])\n",
      "new xy tensor([1, 0])\n",
      "new coords tensor([[10]])\n",
      "tensor([[0.2000]])\n",
      "pos 10\n",
      "x y coordtensor([1, 0])\n",
      "action tensor([0, 1])\n",
      "new xy tensor([1, 1])\n",
      "new coords tensor([[11]])\n",
      "tensor([[0.4000]])\n"
     ]
    }
   ],
   "source": [
    "from torchrl.envs import check_env_specs, step_mdp\n",
    "\n",
    "env = SimpleEnv()\n",
    "check_env_specs(env)"
   ]
  },
  {
   "cell_type": "code",
   "execution_count": null,
   "metadata": {},
   "outputs": [],
   "source": [
    "print(env.observation_spec)\n",
    "print(env.action_spec)\n",
    "print(env.reward_spec)\n",
    "print(env.state_spec)"
   ]
  },
  {
   "cell_type": "code",
   "execution_count": 59,
   "metadata": {},
   "outputs": [
    {
     "name": "stdout",
     "output_type": "stream",
     "text": [
      "pos 11\n",
      "x y coordtensor([1, 1])\n",
      "action tensor([ 0, -1])\n",
      "new xy tensor([1, 0])\n",
      "new coords tensor([[10]])\n",
      "tensor([[0.4000]])\n",
      "TensorDict(\n",
      "    fields={\n",
      "        action: Tensor(shape=torch.Size([1, 1]), device=cpu, dtype=torch.int64, is_shared=False),\n",
      "        next: TensorDict(\n",
      "            fields={\n",
      "                ag_pos: Tensor(shape=torch.Size([1, 1]), device=cpu, dtype=torch.int64, is_shared=False),\n",
      "                done: Tensor(shape=torch.Size([1, 1]), device=cpu, dtype=torch.bool, is_shared=False),\n",
      "                reward: Tensor(shape=torch.Size([1, 1]), device=cpu, dtype=torch.float32, is_shared=False),\n",
      "                terminated: Tensor(shape=torch.Size([1, 1]), device=cpu, dtype=torch.bool, is_shared=False),\n",
      "                visited_tile: Tensor(shape=torch.Size([1, 100]), device=cpu, dtype=torch.int64, is_shared=False)},\n",
      "            batch_size=torch.Size([1]),\n",
      "            device=None,\n",
      "            is_shared=False)},\n",
      "    batch_size=torch.Size([1]),\n",
      "    device=None,\n",
      "    is_shared=False)\n"
     ]
    }
   ],
   "source": [
    "td = env.rand_step()\n",
    "print(td)"
   ]
  },
  {
   "cell_type": "code",
   "execution_count": 64,
   "metadata": {},
   "outputs": [
    {
     "name": "stdout",
     "output_type": "stream",
     "text": [
      "pos 0\n",
      "x y coordtensor([0, 0])\n",
      "action tensor([ 0, -1])\n",
      "new xy tensor([0, 0])\n",
      "new coords tensor([[0]])\n",
      "tensor([[0.]])\n",
      "pos 0\n",
      "x y coordtensor([0, 0])\n",
      "action tensor([ 0, -1])\n",
      "new xy tensor([0, 0])\n",
      "new coords tensor([[0]])\n",
      "tensor([[0.]])\n"
     ]
    },
    {
     "ename": "IndexError",
     "evalue": "index 1 is out of bounds for dimension 0 with size 1",
     "output_type": "error",
     "traceback": [
      "\u001b[0;31m---------------------------------------------------------------------------\u001b[0m",
      "\u001b[0;31mIndexError\u001b[0m                                Traceback (most recent call last)",
      "Cell \u001b[0;32mIn[64], line 15\u001b[0m\n\u001b[1;32m     11\u001b[0m         _data \u001b[38;5;241m=\u001b[39m step_mdp(_data, keep_other\u001b[38;5;241m=\u001b[39m\u001b[38;5;28;01mTrue\u001b[39;00m)\n\u001b[1;32m     12\u001b[0m     \u001b[38;5;28;01mreturn\u001b[39;00m data\n\u001b[0;32m---> 15\u001b[0m \u001b[38;5;28mprint\u001b[39m(\u001b[38;5;124m\"\u001b[39m\u001b[38;5;124mdata from rollout:\u001b[39m\u001b[38;5;124m\"\u001b[39m, \u001b[43msimple_rollout\u001b[49m\u001b[43m(\u001b[49m\u001b[38;5;241;43m100\u001b[39;49m\u001b[43m)\u001b[49m)\n",
      "Cell \u001b[0;32mIn[64], line 10\u001b[0m, in \u001b[0;36msimple_rollout\u001b[0;34m(steps)\u001b[0m\n\u001b[1;32m      8\u001b[0m     _data[\u001b[38;5;124m\"\u001b[39m\u001b[38;5;124maction\u001b[39m\u001b[38;5;124m\"\u001b[39m] \u001b[38;5;241m=\u001b[39m env\u001b[38;5;241m.\u001b[39maction_spec\u001b[38;5;241m.\u001b[39mrand()\n\u001b[1;32m      9\u001b[0m     _data \u001b[38;5;241m=\u001b[39m env\u001b[38;5;241m.\u001b[39mstep(_data)\n\u001b[0;32m---> 10\u001b[0m     data[i] \u001b[38;5;241m=\u001b[39m _data\n\u001b[1;32m     11\u001b[0m     _data \u001b[38;5;241m=\u001b[39m step_mdp(_data, keep_other\u001b[38;5;241m=\u001b[39m\u001b[38;5;28;01mTrue\u001b[39;00m)\n\u001b[1;32m     12\u001b[0m \u001b[38;5;28;01mreturn\u001b[39;00m data\n",
      "File \u001b[0;32m/opt/anaconda3/envs/torchrl/lib/python3.10/site-packages/tensordict/_td.py:570\u001b[0m, in \u001b[0;36mTensorDict.__setitem__\u001b[0;34m(self, index, value)\u001b[0m\n\u001b[1;32m    568\u001b[0m \u001b[38;5;28;01mfor\u001b[39;00m key, item \u001b[38;5;129;01min\u001b[39;00m value\u001b[38;5;241m.\u001b[39mitems():\n\u001b[1;32m    569\u001b[0m     \u001b[38;5;28;01mif\u001b[39;00m key \u001b[38;5;129;01min\u001b[39;00m keys:\n\u001b[0;32m--> 570\u001b[0m         \u001b[38;5;28;43mself\u001b[39;49m\u001b[38;5;241;43m.\u001b[39;49m\u001b[43m_set_at_str\u001b[49m\u001b[43m(\u001b[49m\u001b[43mkey\u001b[49m\u001b[43m,\u001b[49m\u001b[43m \u001b[49m\u001b[43mitem\u001b[49m\u001b[43m,\u001b[49m\u001b[43m \u001b[49m\u001b[43mindex\u001b[49m\u001b[43m,\u001b[49m\u001b[43m \u001b[49m\u001b[43mvalidated\u001b[49m\u001b[38;5;241;43m=\u001b[39;49m\u001b[38;5;28;43;01mFalse\u001b[39;49;00m\u001b[43m)\u001b[49m\n\u001b[1;32m    571\u001b[0m     \u001b[38;5;28;01melse\u001b[39;00m:\n\u001b[1;32m    572\u001b[0m         subtd\u001b[38;5;241m.\u001b[39mset(key, item, inplace\u001b[38;5;241m=\u001b[39m\u001b[38;5;28;01mTrue\u001b[39;00m)\n",
      "File \u001b[0;32m/opt/anaconda3/envs/torchrl/lib/python3.10/site-packages/tensordict/_td.py:1472\u001b[0m, in \u001b[0;36mTensorDict._set_at_str\u001b[0;34m(self, key, value, idx, validated)\u001b[0m\n\u001b[1;32m   1470\u001b[0m     tensor_in\u001b[38;5;241m.\u001b[39mcopy_(value)\n\u001b[1;32m   1471\u001b[0m \u001b[38;5;28;01melse\u001b[39;00m:\n\u001b[0;32m-> 1472\u001b[0m     \u001b[43m_set_item\u001b[49m\u001b[43m(\u001b[49m\u001b[43mtensor_in\u001b[49m\u001b[43m,\u001b[49m\u001b[43m \u001b[49m\u001b[43midx\u001b[49m\u001b[43m,\u001b[49m\u001b[43m \u001b[49m\u001b[43mvalue\u001b[49m\u001b[43m,\u001b[49m\u001b[43m \u001b[49m\u001b[43mvalidated\u001b[49m\u001b[38;5;241;43m=\u001b[39;49m\u001b[43mvalidated\u001b[49m\u001b[43m)\u001b[49m\n\u001b[1;32m   1474\u001b[0m \u001b[38;5;28;01mreturn\u001b[39;00m \u001b[38;5;28mself\u001b[39m\n",
      "File \u001b[0;32m/opt/anaconda3/envs/torchrl/lib/python3.10/site-packages/tensordict/utils.py:646\u001b[0m, in \u001b[0;36m_set_item\u001b[0;34m(tensor, index, value, validated)\u001b[0m\n\u001b[1;32m    644\u001b[0m     \u001b[38;5;28;01mraise\u001b[39;00m \u001b[38;5;167;01mRuntimeError\u001b[39;00m\n\u001b[1;32m    645\u001b[0m \u001b[38;5;28;01mif\u001b[39;00m \u001b[38;5;28misinstance\u001b[39m(tensor, Tensor):\n\u001b[0;32m--> 646\u001b[0m     tensor[index] \u001b[38;5;241m=\u001b[39m value\n\u001b[1;32m    647\u001b[0m     \u001b[38;5;28;01mreturn\u001b[39;00m tensor\n\u001b[1;32m    648\u001b[0m \u001b[38;5;28;01melif\u001b[39;00m \u001b[38;5;28misinstance\u001b[39m(tensor, KeyedJaggedTensor):\n",
      "\u001b[0;31mIndexError\u001b[0m: index 1 is out of bounds for dimension 0 with size 1"
     ]
    }
   ],
   "source": [
    "## Omit transform for now\n",
    "def simple_rollout(steps=100):\n",
    "    # preallocate:\n",
    "    data = TensorDict({}, (1,))\n",
    "    # reset\n",
    "    _data = env.reset()\n",
    "    for i in range(steps):\n",
    "        _data[\"action\"] = env.action_spec.rand()\n",
    "        _data = env.step(_data)\n",
    "        data[i] = _data\n",
    "        _data = step_mdp(_data, keep_other=True)\n",
    "    return data\n",
    "\n",
    "\n",
    "print(\"data from rollout:\", simple_rollout(100))"
   ]
  }
 ],
 "metadata": {
  "kernelspec": {
   "display_name": "torchrl",
   "language": "python",
   "name": "python3"
  },
  "language_info": {
   "codemirror_mode": {
    "name": "ipython",
    "version": 3
   },
   "file_extension": ".py",
   "mimetype": "text/x-python",
   "name": "python",
   "nbconvert_exporter": "python",
   "pygments_lexer": "ipython3",
   "version": "3.10.13"
  }
 },
 "nbformat": 4,
 "nbformat_minor": 2
}
