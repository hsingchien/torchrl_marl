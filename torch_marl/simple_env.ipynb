{
 "cells": [
  {
   "cell_type": "code",
   "execution_count": 10,
   "metadata": {},
   "outputs": [
    {
     "name": "stdout",
     "output_type": "stream",
     "text": [
      "The autoreload extension is already loaded. To reload it, use:\n",
      "  %reload_ext autoreload\n"
     ]
    }
   ],
   "source": [
    "# Torch\n",
    "%load_ext autoreload\n",
    "%autoreload 2\n",
    "from env.simple_env import SimpleEnv\n",
    "from tensordict import TensorDict"
   ]
  },
  {
   "cell_type": "code",
   "execution_count": 11,
   "metadata": {},
   "outputs": [
    {
     "name": "stderr",
     "output_type": "stream",
     "text": [
      "2024-02-25 22:35:17,644 [torchrl][INFO] check_env_specs succeeded!\n"
     ]
    },
    {
     "name": "stdout",
     "output_type": "stream",
     "text": [
      "pos 0\n",
      "x y coordtensor([0, 0])\n",
      "action tensor([1, 0])\n",
      "new xy tensor([1, 0])\n",
      "new coords tensor([[10]])\n",
      "tensor([[0.2000]])\n",
      "pos 10\n",
      "x y coordtensor([1, 0])\n",
      "action tensor([ 0, -1])\n",
      "new xy tensor([1, 0])\n",
      "new coords tensor([[10]])\n",
      "tensor([[0.2000]])\n",
      "pos 10\n",
      "x y coordtensor([1, 0])\n",
      "action tensor([0, 1])\n",
      "new xy tensor([1, 1])\n",
      "new coords tensor([[11]])\n",
      "tensor([[0.4000]])\n"
     ]
    }
   ],
   "source": [
    "from torchrl.envs import check_env_specs, step_mdp\n",
    "\n",
    "env = SimpleEnv()\n",
    "check_env_specs(env)"
   ]
  },
  {
   "cell_type": "code",
   "execution_count": null,
   "metadata": {},
   "outputs": [],
   "source": [
    "print(env.observation_spec)\n",
    "print(env.action_spec)\n",
    "print(env.reward_spec)\n",
    "print(env.state_spec)"
   ]
  },
  {
   "cell_type": "code",
   "execution_count": null,
   "metadata": {},
   "outputs": [],
   "source": [
    "td = env.rand_step()\n",
    "print(td)"
   ]
  },
  {
   "cell_type": "code",
   "execution_count": null,
   "metadata": {},
   "outputs": [],
   "source": [
    "## Omit transform for now\n",
    "def simple_rollout(steps=100):\n",
    "    # preallocate:\n",
    "    data = TensorDict({}, (100))\n",
    "    # reset\n",
    "    _data = env.reset()\n",
    "    for i in range(steps):\n",
    "        _data[\"action\"] = env.action_spec.rand()\n",
    "        _data = env.step(_data)\n",
    "        data[i] = _data\n",
    "        _data = step_mdp(_data, keep_other=True)\n",
    "    return data\n",
    "\n",
    "\n",
    "print(\"data from rollout:\", simple_rollout(100))"
   ]
  }
 ],
 "metadata": {
  "kernelspec": {
   "display_name": "torchrl",
   "language": "python",
   "name": "python3"
  },
  "language_info": {
   "codemirror_mode": {
    "name": "ipython",
    "version": 3
   },
   "file_extension": ".py",
   "mimetype": "text/x-python",
   "name": "python",
   "nbconvert_exporter": "python",
   "pygments_lexer": "ipython3",
   "version": "3.10.13"
  }
 },
 "nbformat": 4,
 "nbformat_minor": 2
}
